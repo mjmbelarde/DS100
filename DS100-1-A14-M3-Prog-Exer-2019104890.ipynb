{
 "cells": [
  {
   "cell_type": "code",
   "execution_count": 1,
   "id": "af517259",
   "metadata": {},
   "outputs": [],
   "source": [
    "import pandas as pd\n",
    "import numpy as np\n",
    "import matplotlib.pyplot as plt\n",
    "from sklearn.linear_model import LinearRegression"
   ]
  },
  {
   "cell_type": "code",
   "execution_count": 3,
   "id": "cd68dab8",
   "metadata": {},
   "outputs": [
    {
     "data": {
      "text/html": [
       "<div>\n",
       "<style scoped>\n",
       "    .dataframe tbody tr th:only-of-type {\n",
       "        vertical-align: middle;\n",
       "    }\n",
       "\n",
       "    .dataframe tbody tr th {\n",
       "        vertical-align: top;\n",
       "    }\n",
       "\n",
       "    .dataframe thead th {\n",
       "        text-align: right;\n",
       "    }\n",
       "</style>\n",
       "<table border=\"1\" class=\"dataframe\">\n",
       "  <thead>\n",
       "    <tr style=\"text-align: right;\">\n",
       "      <th></th>\n",
       "      <th>AT</th>\n",
       "      <th>AP</th>\n",
       "      <th>AH</th>\n",
       "      <th>AFDP</th>\n",
       "      <th>GTEP</th>\n",
       "      <th>TIT</th>\n",
       "      <th>TAT</th>\n",
       "      <th>TEY</th>\n",
       "      <th>CDP</th>\n",
       "      <th>CO</th>\n",
       "      <th>NOX</th>\n",
       "    </tr>\n",
       "  </thead>\n",
       "  <tbody>\n",
       "    <tr>\n",
       "      <th>0</th>\n",
       "      <td>4.5878</td>\n",
       "      <td>1018.7</td>\n",
       "      <td>83.675</td>\n",
       "      <td>3.5758</td>\n",
       "      <td>23.979</td>\n",
       "      <td>1086.2</td>\n",
       "      <td>549.83</td>\n",
       "      <td>134.67</td>\n",
       "      <td>11.898</td>\n",
       "      <td>0.32663</td>\n",
       "      <td>81.952</td>\n",
       "    </tr>\n",
       "    <tr>\n",
       "      <th>1</th>\n",
       "      <td>4.2932</td>\n",
       "      <td>1018.3</td>\n",
       "      <td>84.235</td>\n",
       "      <td>3.5709</td>\n",
       "      <td>23.951</td>\n",
       "      <td>1086.1</td>\n",
       "      <td>550.05</td>\n",
       "      <td>134.67</td>\n",
       "      <td>11.892</td>\n",
       "      <td>0.44784</td>\n",
       "      <td>82.377</td>\n",
       "    </tr>\n",
       "    <tr>\n",
       "      <th>2</th>\n",
       "      <td>3.9045</td>\n",
       "      <td>1018.4</td>\n",
       "      <td>84.858</td>\n",
       "      <td>3.5828</td>\n",
       "      <td>23.990</td>\n",
       "      <td>1086.5</td>\n",
       "      <td>550.19</td>\n",
       "      <td>135.10</td>\n",
       "      <td>12.042</td>\n",
       "      <td>0.45144</td>\n",
       "      <td>83.776</td>\n",
       "    </tr>\n",
       "    <tr>\n",
       "      <th>3</th>\n",
       "      <td>3.7436</td>\n",
       "      <td>1018.3</td>\n",
       "      <td>85.434</td>\n",
       "      <td>3.5808</td>\n",
       "      <td>23.911</td>\n",
       "      <td>1086.5</td>\n",
       "      <td>550.17</td>\n",
       "      <td>135.03</td>\n",
       "      <td>11.990</td>\n",
       "      <td>0.23107</td>\n",
       "      <td>82.505</td>\n",
       "    </tr>\n",
       "    <tr>\n",
       "      <th>4</th>\n",
       "      <td>3.7516</td>\n",
       "      <td>1017.8</td>\n",
       "      <td>85.182</td>\n",
       "      <td>3.5781</td>\n",
       "      <td>23.917</td>\n",
       "      <td>1085.9</td>\n",
       "      <td>550.00</td>\n",
       "      <td>134.67</td>\n",
       "      <td>11.910</td>\n",
       "      <td>0.26747</td>\n",
       "      <td>82.028</td>\n",
       "    </tr>\n",
       "    <tr>\n",
       "      <th>...</th>\n",
       "      <td>...</td>\n",
       "      <td>...</td>\n",
       "      <td>...</td>\n",
       "      <td>...</td>\n",
       "      <td>...</td>\n",
       "      <td>...</td>\n",
       "      <td>...</td>\n",
       "      <td>...</td>\n",
       "      <td>...</td>\n",
       "      <td>...</td>\n",
       "      <td>...</td>\n",
       "    </tr>\n",
       "    <tr>\n",
       "      <th>15034</th>\n",
       "      <td>10.0370</td>\n",
       "      <td>1022.1</td>\n",
       "      <td>88.531</td>\n",
       "      <td>2.9192</td>\n",
       "      <td>23.641</td>\n",
       "      <td>1083.6</td>\n",
       "      <td>549.91</td>\n",
       "      <td>132.61</td>\n",
       "      <td>11.745</td>\n",
       "      <td>1.65600</td>\n",
       "      <td>76.068</td>\n",
       "    </tr>\n",
       "    <tr>\n",
       "      <th>15035</th>\n",
       "      <td>9.8921</td>\n",
       "      <td>1022.2</td>\n",
       "      <td>87.622</td>\n",
       "      <td>2.9415</td>\n",
       "      <td>23.859</td>\n",
       "      <td>1084.9</td>\n",
       "      <td>550.08</td>\n",
       "      <td>133.57</td>\n",
       "      <td>11.869</td>\n",
       "      <td>1.55490</td>\n",
       "      <td>74.930</td>\n",
       "    </tr>\n",
       "    <tr>\n",
       "      <th>15036</th>\n",
       "      <td>9.8723</td>\n",
       "      <td>1022.0</td>\n",
       "      <td>86.618</td>\n",
       "      <td>2.9309</td>\n",
       "      <td>23.817</td>\n",
       "      <td>1084.8</td>\n",
       "      <td>549.99</td>\n",
       "      <td>133.50</td>\n",
       "      <td>11.914</td>\n",
       "      <td>1.40930</td>\n",
       "      <td>75.041</td>\n",
       "    </tr>\n",
       "    <tr>\n",
       "      <th>15037</th>\n",
       "      <td>10.0260</td>\n",
       "      <td>1022.0</td>\n",
       "      <td>87.301</td>\n",
       "      <td>2.9363</td>\n",
       "      <td>23.831</td>\n",
       "      <td>1084.5</td>\n",
       "      <td>550.01</td>\n",
       "      <td>133.20</td>\n",
       "      <td>11.811</td>\n",
       "      <td>1.39630</td>\n",
       "      <td>74.460</td>\n",
       "    </tr>\n",
       "    <tr>\n",
       "      <th>15038</th>\n",
       "      <td>10.0590</td>\n",
       "      <td>1021.8</td>\n",
       "      <td>88.012</td>\n",
       "      <td>2.4579</td>\n",
       "      <td>19.526</td>\n",
       "      <td>1047.5</td>\n",
       "      <td>542.91</td>\n",
       "      <td>111.24</td>\n",
       "      <td>10.585</td>\n",
       "      <td>8.01070</td>\n",
       "      <td>86.066</td>\n",
       "    </tr>\n",
       "  </tbody>\n",
       "</table>\n",
       "<p>15039 rows × 11 columns</p>\n",
       "</div>"
      ],
      "text/plain": [
       "            AT      AP      AH    AFDP    GTEP     TIT     TAT     TEY  \\\n",
       "0       4.5878  1018.7  83.675  3.5758  23.979  1086.2  549.83  134.67   \n",
       "1       4.2932  1018.3  84.235  3.5709  23.951  1086.1  550.05  134.67   \n",
       "2       3.9045  1018.4  84.858  3.5828  23.990  1086.5  550.19  135.10   \n",
       "3       3.7436  1018.3  85.434  3.5808  23.911  1086.5  550.17  135.03   \n",
       "4       3.7516  1017.8  85.182  3.5781  23.917  1085.9  550.00  134.67   \n",
       "...        ...     ...     ...     ...     ...     ...     ...     ...   \n",
       "15034  10.0370  1022.1  88.531  2.9192  23.641  1083.6  549.91  132.61   \n",
       "15035   9.8921  1022.2  87.622  2.9415  23.859  1084.9  550.08  133.57   \n",
       "15036   9.8723  1022.0  86.618  2.9309  23.817  1084.8  549.99  133.50   \n",
       "15037  10.0260  1022.0  87.301  2.9363  23.831  1084.5  550.01  133.20   \n",
       "15038  10.0590  1021.8  88.012  2.4579  19.526  1047.5  542.91  111.24   \n",
       "\n",
       "          CDP       CO     NOX  \n",
       "0      11.898  0.32663  81.952  \n",
       "1      11.892  0.44784  82.377  \n",
       "2      12.042  0.45144  83.776  \n",
       "3      11.990  0.23107  82.505  \n",
       "4      11.910  0.26747  82.028  \n",
       "...       ...      ...     ...  \n",
       "15034  11.745  1.65600  76.068  \n",
       "15035  11.869  1.55490  74.930  \n",
       "15036  11.914  1.40930  75.041  \n",
       "15037  11.811  1.39630  74.460  \n",
       "15038  10.585  8.01070  86.066  \n",
       "\n",
       "[15039 rows x 11 columns]"
      ]
     },
     "execution_count": 3,
     "metadata": {},
     "output_type": "execute_result"
    }
   ],
   "source": [
    "data = pd.read_csv('data-power.csv')\n",
    "data"
   ]
  },
  {
   "cell_type": "code",
   "execution_count": 4,
   "id": "9fac742b",
   "metadata": {},
   "outputs": [],
   "source": [
    "x = data[['AT', 'AP', 'AH']]\n",
    "y = data['CO']"
   ]
  },
  {
   "cell_type": "code",
   "execution_count": 6,
   "id": "627c2822",
   "metadata": {},
   "outputs": [],
   "source": [
    "from sklearn.metrics import r2_score\n",
    "from sklearn.model_selection import train_test_split"
   ]
  },
  {
   "cell_type": "code",
   "execution_count": 8,
   "id": "1c431588",
   "metadata": {},
   "outputs": [],
   "source": [
    "x_train, x_test, y_train, y_test = train_test_split(x, y, test_size = 0.5, random_state = 10)"
   ]
  },
  {
   "cell_type": "code",
   "execution_count": 9,
   "id": "3fe637ea",
   "metadata": {},
   "outputs": [],
   "source": [
    "linreg = LinearRegression()\n",
    "model = linreg.fit(x_train, y_train)\n",
    "target = linreg.predict(x_test)"
   ]
  },
  {
   "cell_type": "code",
   "execution_count": 13,
   "id": "3e4df177",
   "metadata": {},
   "outputs": [
    {
     "data": {
      "text/plain": [
       "Text(0, 0.5, 'Predict')"
      ]
     },
     "execution_count": 13,
     "metadata": {},
     "output_type": "execute_result"
    },
    {
     "data": {
      "image/png": "[encoded data removed]",
      "text/plain": [
       "<Figure size 640x480 with 1 Axes>"
      ]
     },
     "metadata": {},
     "output_type": "display_data"
    }
   ],
   "source": [
    "plt.figure()\n",
    "plt.scatter(y_test, target, color = 'red')\n",
    "plt.plot(range(4), range(4), color = 'yellow')\n",
    "plt.xlabel('True Values')\n",
    "plt.ylabel('Predict')"
   ]
  },
  {
   "cell_type": "code",
   "execution_count": 14,
   "id": "db807003",
   "metadata": {},
   "outputs": [
    {
     "name": "stdout",
     "output_type": "stream",
     "text": [
      "R-squared Score (training): 0.029822301466625678\n"
     ]
    }
   ],
   "source": [
    "print('R-squared Score (training):', model.score(x_train, y_train))"
   ]
  },
  {
   "cell_type": "code",
   "execution_count": 15,
   "id": "d4c4362d",
   "metadata": {},
   "outputs": [
    {
     "name": "stdout",
     "output_type": "stream",
     "text": [
      "R-squared Score (test): 0.027831675422701152\n"
     ]
    }
   ],
   "source": [
    "print('R-squared Score (test):', model.score(x_test, y_test))"
   ]
  },
  {
   "cell_type": "code",
   "execution_count": 16,
   "id": "f33745e4",
   "metadata": {},
   "outputs": [
    {
     "name": "stdout",
     "output_type": "stream",
     "text": [
      "Coefficient (w): [0.01367738 0.01978128 0.03068716]\n"
     ]
    }
   ],
   "source": [
    "print('Coefficient (w):', linreg.coef_)"
   ]
  },
  {
   "cell_type": "code",
   "execution_count": 17,
   "id": "2f5e63fd",
   "metadata": {},
   "outputs": [
    {
     "name": "stdout",
     "output_type": "stream",
     "text": [
      "Intercept -20.74149308410578\n"
     ]
    }
   ],
   "source": [
    "print('Intercept', linreg.intercept_)"
   ]
  },
  {
   "cell_type": "code",
   "execution_count": 18,
   "id": "6910d297",
   "metadata": {},
   "outputs": [],
   "source": [
    "from sklearn import metrics"
   ]
  },
  {
   "cell_type": "code",
   "execution_count": 19,
   "id": "2b43e870",
   "metadata": {},
   "outputs": [
    {
     "name": "stdout",
     "output_type": "stream",
     "text": [
      "Mean Squared Error 4.658740477756943\n"
     ]
    }
   ],
   "source": [
    "print('Mean Squared Error', metrics.mean_squared_error(y_test, target))"
   ]
  },
  {
   "cell_type": "code",
   "execution_count": 20,
   "id": "2b1afb6f",
   "metadata": {},
   "outputs": [
    {
     "name": "stdout",
     "output_type": "stream",
     "text": [
      "Equation: CO =0.013677375462387913*AT +-20.74149308410578\n"
     ]
    }
   ],
   "source": [
    "print('Equation: CO ='+str(linreg.coef_[0])+'*AT +'+str(linreg.intercept_))"
   ]
  },
  {
   "cell_type": "markdown",
   "id": "da4d9513",
   "metadata": {},
   "source": [
    "Belarde, Mark Joshua M.\n",
    "2019104890"
   ]
  },
  {
   "cell_type": "markdown",
   "id": "fe592efa",
   "metadata": {},
   "source": [
    "The R squared value of both training and test shows that there is only almost 3% of the variance in the dependent variable, Carbon Monoxide, can be explained by Ambient Temperature (AT), Ambient Pressure (AP), Ambient Humidity (AH). This tells us that the model is not a good fit for the data and that other additional independent variables are neede to improve the accuracy of the plot."
   ]
  },
  {
   "cell_type": "markdown",
   "id": "5bdc0f69",
   "metadata": {},
   "source": [
    "The plot consistently proves that there is a poor fit of the model as the points are more dispersed or scattered from the diagonal line."
   ]
  },
  {
   "cell_type": "markdown",
   "id": "0b998c8e",
   "metadata": {},
   "source": [
    "The equation for predicting the target variable is CO = a + b(AT, AP, AH)"
   ]
  },
  {
   "cell_type": "code",
   "execution_count": null,
   "id": "dc774490",
   "metadata": {},
   "outputs": [],
   "source": []
  }
 ],
 "metadata": {
  "kernelspec": {
   "display_name": "Python 3 (ipykernel)",
   "language": "python",
   "name": "python3"
  },
  "language_info": {
   "codemirror_mode": {
    "name": "ipython",
    "version": 3
   },
   "file_extension": ".py",
   "mimetype": "text/x-python",
   "name": "python",
   "nbconvert_exporter": "python",
   "pygments_lexer": "ipython3",
   "version": "3.10.9"
  }
 },
 "nbformat": 4,
 "nbformat_minor": 5
}
